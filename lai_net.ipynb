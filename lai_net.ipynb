{
 "cells": [
  {
   "cell_type": "code",
   "execution_count": 1,
   "metadata": {},
   "outputs": [
    {
     "name": "stdout",
     "output_type": "stream",
     "text": [
      "Start importing required libraries...\n",
      "Done importing\n",
      "bcftools has been loaded\n"
     ]
    }
   ],
   "source": [
    "print('Start importing required libraries...')\n",
    "import os, sys, time\n",
    "import subprocess\n",
    "sys.path.append('../')\n",
    "from tqdm.auto import tqdm\n",
    "import allel\n",
    "import yaml\n",
    "import numpy as np\n",
    "import pandas as pd\n",
    "import matplotlib.pyplot as plt\n",
    "import torch\n",
    "torch.autograd.set_detect_anomaly(True)\n",
    "import torch.nn as nn\n",
    "import torch.nn.functional as F\n",
    "import torch.optim as optim\n",
    "import math\n",
    "from collections import Counter\n",
    "import gzip\n",
    "import tagore\n",
    "from scipy.interpolate import interp1d\n",
    "\n",
    "from lainet.models.network_constructor import get_network\n",
    "from lainet.utils.eval import compute_accuracy, AccuracyLogger, complete_sk_eval, print_sk_eval\n",
    "from lainet.utils.reader import load_founders_from_vcf_and_map, load_results_file\n",
    "from lainet.utils.output_writer import get_meta_data, write_msp_tsv\n",
    "from lainet.training import train_main, eval_predictions\n",
    "from lainet.inference import inference_main \n",
    "\n",
    "from utils.format_file import add_result, naming_file, output_name\n",
    "from utils.format_file import naming_file, extract_from_same_file, extract_from_file,output_name_mixed\n",
    "\n",
    "print('Done importing')"
   ]
  },
  {
   "cell_type": "code",
   "execution_count": null,
   "metadata": {},
   "outputs": [],
   "source": [
    "\n",
    "#importing bcftools\n",
    "exec(open(\"/shared/software/modules/4.6.1/init/python.py\").read(), globals())\n",
    "module(\"load\", \"bcftools\")\n",
    "\n",
    "print(\"bcftools has been loaded\")"
   ]
  },
  {
   "cell_type": "code",
   "execution_count": 2,
   "metadata": {},
   "outputs": [],
   "source": [
    "# Arguments\n",
    "genetic_map_file =  \"../data/input/real/allchrs_b37.gmap\"\n",
    "config_path = 'configs/default.yaml'"
   ]
  },
  {
   "cell_type": "markdown",
   "metadata": {
    "tags": []
   },
   "source": [
    "# FORMATING DATA"
   ]
  },
  {
   "cell_type": "markdown",
   "metadata": {},
   "source": [
    "The first step is to create the file for the train and the test.\n",
    "if you already have your files you can **skip this section**."
   ]
  },
  {
   "cell_type": "markdown",
   "metadata": {},
   "source": [
    "There is three choices, **you only need to chose of the option**: <br>\n",
    "    1. you want to split only **one file** into the train and test    \n",
    "    2. you want to use **one file (or a part of ) for the train** and **another file (or a part of) for the test** (the files must have different samples    \n",
    "    3. you want to **mix samples for one file and another** to do the train and the test"
   ]
  },
  {
   "cell_type": "markdown",
   "metadata": {
    "jp-MarkdownHeadingCollapsed": true,
    "tags": []
   },
   "source": [
    "## 1. Extracting train and test from the same file"
   ]
  },
  {
   "cell_type": "markdown",
   "metadata": {},
   "source": [
    "First let's define some characteristics of our samples. We need to know how many pop, if it's artificial or real and how many sample we want."
   ]
  },
  {
   "cell_type": "code",
   "execution_count": 138,
   "metadata": {},
   "outputs": [],
   "source": [
    "nSNP='65k'\n",
    "pop=['AFR','EUR','EAS','AMR','SAS']\n",
    "npop=len(pop)\n",
    "\n",
    "\n",
    "real=True #put true if real, false if artificial\n"
   ]
  },
  {
   "cell_type": "code",
   "execution_count": 139,
   "metadata": {},
   "outputs": [
    {
     "name": "stdout",
     "output_type": "stream",
     "text": [
      "../data/input/real/65k_SNP/5pop_690train.vcf.gz ../data/input/real/65k_SNP/5pop_690train.tsv ../data/input/real/65k_SNP/5pop_690train.smap\n",
      "../data/input/real/65k_SNP/\n"
     ]
    }
   ],
   "source": [
    "#train\n",
    "nsamplepop=138\n",
    "\n",
    "test_file,test_list_file,test_map_file,prefix=naming_file(False,real,nsamplepop,npop,nSNP,'../data/input/')\n",
    "print(test_file,test_list_file,test_map_file)\n",
    "print(prefix)"
   ]
  },
  {
   "cell_type": "code",
   "execution_count": 140,
   "metadata": {},
   "outputs": [
    {
     "name": "stdout",
     "output_type": "stream",
     "text": [
      "../data/input/real/65k_SNP/5pop_1045test.vcf.gz ../data/input/real/65k_SNP/5pop_1045test.tsv ../data/input/real/65k_SNP/5pop_1045test.smap\n",
      "../data/input/real/65k_SNP/\n"
     ]
    }
   ],
   "source": [
    "#test\n",
    "nquerypop=209\n",
    "\n",
    "train_file,train_list_file,train_map_file,prefix=naming_file(True,real,nquerypop,npop,nSNP,'../data/input/')\n",
    "print(train_file,train_list_file,train_map_file)\n",
    "print(prefix)"
   ]
  },
  {
   "cell_type": "code",
   "execution_count": 141,
   "metadata": {},
   "outputs": [
    {
     "name": "stdout",
     "output_type": "stream",
     "text": [
      "../data/input/real/65k_SNP/reference.vcf.gz\n",
      "../data/input/real/65k_SNP/reference.smap\n"
     ]
    }
   ],
   "source": [
    "reference_file=prefix+'reference.vcf.gz'\n",
    "reference_map_file=prefix+'reference.smap'\n",
    "print(reference_file)\n",
    "print(reference_map_file)"
   ]
  },
  {
   "cell_type": "code",
   "execution_count": 45,
   "metadata": {},
   "outputs": [
    {
     "name": "stdout",
     "output_type": "stream",
     "text": [
      "Randomly selecting samples...\n",
      "\n",
      "{'AFR': 209, 'EUR': 209, 'EAS': 209}\n",
      "{'AFR': 138, 'EUR': 138, 'EAS': 138}\n",
      "\n",
      "\n",
      "Running in command line: \n",
      "\t bcftools view -S ../data/input/real/65k_SNP/3pop_627test.tsv -Ov -o ../data/input/real/65k_SNP/3pop_627test.vcf.gz ../data/input/real/65k_SNP/reference.vcf.gz \n",
      "\t bcftools view -S ../data/input/real/65k_SNP/3pop_414train.tsv -Ov -o ../data/input/real/65k_SNP/3pop_414train.vcf.gz ../data/input/real/65k_SNP/reference.vcf.gz\n",
      "\n",
      "Done\n"
     ]
    }
   ],
   "source": [
    "extract_from_same_file(reference_file,reference_map_file,nquerypop,nsamplepop,train_map_file,test_map_file,train_list_file,test_list_file,train_file,test_file,pop)"
   ]
  },
  {
   "cell_type": "code",
   "execution_count": 142,
   "metadata": {},
   "outputs": [
    {
     "name": "stdout",
     "output_type": "stream",
     "text": [
      "../data/output_lainet/65k_SNP/train690_rAFR-rEUR-rEAS-rAMR-rSAS-test1045_rAFR-rEUR-rEAS-rAMR-rSAS-/\n"
     ]
    }
   ],
   "source": [
    "output_basename=output_name('lainet',nSNP,nsamplepop,nquerypop,pop,real,real)\n",
    "print(output_basename)"
   ]
  },
  {
   "cell_type": "markdown",
   "metadata": {
    "jp-MarkdownHeadingCollapsed": true,
    "tags": []
   },
   "source": [
    "## 2. Extracting train and test from two files"
   ]
  },
  {
   "cell_type": "code",
   "execution_count": 93,
   "metadata": {},
   "outputs": [],
   "source": [
    "nSNP='65k'\n",
    "pop=['AFR','EUR','EAS']\n",
    "npop=len(pop)"
   ]
  },
  {
   "cell_type": "code",
   "execution_count": 94,
   "metadata": {},
   "outputs": [
    {
     "name": "stdout",
     "output_type": "stream",
     "text": [
      "../data/input/artificial/65k_SNP/3pop_414train.vcf.gz ../data/input/artificial/65k_SNP/3pop_414train.tsv ../data/input/artificial/65k_SNP/3pop_414train.smap\n",
      "../data/input/artificial/65k_SNP/\n"
     ]
    }
   ],
   "source": [
    "#train\n",
    "real_train=False\n",
    "nsamplepop=138\n",
    "\n",
    "train_file,train_list_file,train_map_file,data_folder_s=naming_file(False,real_train,nsamplepop,npop,nSNP,'../data/input/')\n",
    "print(train_file,train_list_file,train_map_file)\n",
    "print(data_folder_s)"
   ]
  },
  {
   "cell_type": "code",
   "execution_count": 95,
   "metadata": {},
   "outputs": [
    {
     "name": "stdout",
     "output_type": "stream",
     "text": [
      "../data/input/artificial/65k_SNP/reference.vcf.gz\n",
      "../data/input/artificial/65k_SNP/reference.smap\n"
     ]
    }
   ],
   "source": [
    "#train \n",
    "reference_file_s=data_folder_s+'reference.vcf.gz'\n",
    "reference_map_file_s=data_folder_s+'reference.smap'\n",
    "print(reference_file_s)\n",
    "print(reference_map_file_s)"
   ]
  },
  {
   "cell_type": "code",
   "execution_count": 96,
   "metadata": {},
   "outputs": [
    {
     "name": "stdout",
     "output_type": "stream",
     "text": [
      "../data/input/real/65k_SNP/3pop_627test.vcf.gz ../data/input/real/65k_SNP/3pop_627test.tsv ../data/input/real/65k_SNP/3pop_627test.smap\n",
      "../data/input/real/65k_SNP/\n"
     ]
    }
   ],
   "source": [
    "#test\n",
    "real_test=True\n",
    "nquerypop=209\n",
    "\n",
    "test_file,test_list_file,test_map_file,data_folder_q=naming_file(True,real_test,nquerypop,npop,nSNP,'../data/input/')\n",
    "print(test_file,test_list_file,test_map_file)\n",
    "print(data_folder_q)"
   ]
  },
  {
   "cell_type": "code",
   "execution_count": 97,
   "metadata": {},
   "outputs": [
    {
     "name": "stdout",
     "output_type": "stream",
     "text": [
      "../data/input/real/65k_SNP/reference.vcf.gz\n",
      "../data/input/real/65k_SNP/reference.smap\n"
     ]
    }
   ],
   "source": [
    "#test\n",
    "reference_file_q=data_folder_q+'reference.vcf.gz'\n",
    "reference_map_file_q=data_folder_q+'reference.smap'\n",
    "print(reference_file_q)\n",
    "print(reference_map_file_q)"
   ]
  },
  {
   "cell_type": "code",
   "execution_count": 98,
   "metadata": {},
   "outputs": [
    {
     "name": "stdout",
     "output_type": "stream",
     "text": [
      "{'AFR': 138, 'EUR': 138, 'EAS': 138}\n",
      "\n",
      "\n",
      "Running in command line: \n",
      "\t bcftools view -S ../data/input/artificial/65k_SNP/3pop_414train.tsv -Ov -o ../data/input/artificial/65k_SNP/3pop_414train.vcf.gz ../data/input/artificial/65k_SNP/reference.vcf.gz\n",
      "Done\n"
     ]
    }
   ],
   "source": [
    "extract_from_file(reference_file_s,reference_map_file_s,nsamplepop,train_map_file,train_list_file,train_file,pop)"
   ]
  },
  {
   "cell_type": "code",
   "execution_count": 99,
   "metadata": {},
   "outputs": [
    {
     "name": "stdout",
     "output_type": "stream",
     "text": [
      "{'AFR': 209, 'EUR': 209, 'EAS': 209}\n",
      "\n",
      "\n",
      "Running in command line: \n",
      "\t bcftools view -S ../data/input/real/65k_SNP/3pop_627test.tsv -Ov -o ../data/input/real/65k_SNP/3pop_627test.vcf.gz ../data/input/real/65k_SNP/reference.vcf.gz\n",
      "Done\n"
     ]
    }
   ],
   "source": [
    "extract_from_file(reference_file_q,reference_map_file_q,nquerypop,test_map_file,test_list_file,test_file,pop)"
   ]
  },
  {
   "cell_type": "code",
   "execution_count": 100,
   "metadata": {},
   "outputs": [
    {
     "name": "stdout",
     "output_type": "stream",
     "text": [
      "../data/output_lainet/65k_SNP/train414_aAFR-aEUR-aEAS-test627_rAFR-rEUR-rEAS-/\n"
     ]
    }
   ],
   "source": [
    "output_basename=output_name('lainet',nSNP,nsamplepop,nquerypop,pop,real_train,real_test)\n",
    "print(output_basename)"
   ]
  },
  {
   "cell_type": "markdown",
   "metadata": {
    "jp-MarkdownHeadingCollapsed": true,
    "tags": []
   },
   "source": [
    "## 3. Mixing artificial and real genome for the train set"
   ]
  },
  {
   "cell_type": "code",
   "execution_count": 3,
   "metadata": {},
   "outputs": [],
   "source": [
    "nSNP='65k'\n",
    "rm=True # if true when merging, old files are removed"
   ]
  },
  {
   "cell_type": "markdown",
   "metadata": {},
   "source": [
    "First we need to extract real sample and artificial samples into two vcf files and then we will merge those files."
   ]
  },
  {
   "cell_type": "code",
   "execution_count": 27,
   "metadata": {},
   "outputs": [
    {
     "name": "stdout",
     "output_type": "stream",
     "text": [
      "----------------------------------------------------------------------------------------------------\n",
      "ARTIFICIAL TRAIN SET\n",
      "../data/input/artificial/65k_SNP/1pop_300train.vcf.gz ../data/input/artificial/65k_SNP/1pop_300train.tsv ../data/input/artificial/65k_SNP/1pop_300train.smap\n",
      "../data/input/artificial/65k_SNP/\n",
      "{'EUR': 300}\n",
      "\n",
      "\n",
      "Running in command line: \n",
      "\t bcftools view -S ../data/input/artificial/65k_SNP/1pop_300train.tsv -Ov -o ../data/input/artificial/65k_SNP/1pop_300train.vcf.gz ../data/input/artificial/65k_SNP/reference.vcf.gz\n",
      "Done\n",
      "----------------------------------------------------------------------------------------------------\n"
     ]
    }
   ],
   "source": [
    "#artificial train set\n",
    "pop_ta=['EUR']\n",
    "\n",
    "npop_1=len(pop_ta)\n",
    "nsamplepop_1=300\n",
    "\n",
    "train_file,train_list_file,train_map_file,prefix=naming_file(False,False,nsamplepop_1,npop_1,nSNP,'../data/input/')\n",
    "print(\"-\"*100)\n",
    "\n",
    "print('ARTIFICIAL TRAIN SET')\n",
    "\n",
    "print(train_file,train_list_file,train_map_file)\n",
    "print(prefix)\n",
    "\n",
    "reference_file=prefix+'reference.vcf.gz'\n",
    "reference_map_file=prefix+'reference.smap'\n",
    "\n",
    "extract_from_file(reference_file,reference_map_file,nsamplepop_1,train_map_file,train_list_file,train_file,pop_ta)\n",
    "print(\"-\"*100)\n",
    "sfile1=train_file\n",
    "sfile1_tsv=train_list_file\n",
    "sfile1_map=train_map_file"
   ]
  },
  {
   "cell_type": "code",
   "execution_count": 28,
   "metadata": {},
   "outputs": [
    {
     "name": "stdout",
     "output_type": "stream",
     "text": [
      "----------------------------------------------------------------------------------------------------\n",
      "REAL TRAIN SET\n",
      "../data/input/real/65k_SNP/2pop_600train.vcf.gz ../data/input/real/65k_SNP/2pop_600train.tsv ../data/input/real/65k_SNP/2pop_600train.smap\n",
      "../data/input/real/65k_SNP/\n",
      "----------------------------------------------------------------------------------------------------\n",
      "REAL QUERY SET1\n",
      "../data/input/real/65k_SNP/2pop_404test.vcf.gz ../data/input/real/65k_SNP/2pop_404test.tsv ../data/input/real/65k_SNP/2pop_404test.smap\n",
      "../data/input/real/65k_SNP/\n",
      "----------------------------------------------------------------------------------------------------\n",
      "../data/input/real/65k_SNP/reference.vcf.gz\n",
      "../data/input/real/65k_SNP/reference.smap\n",
      "Randomly selecting samples...\n",
      "\n",
      "{'AFR': 202, 'EAS': 202}\n",
      "{'AFR': 300, 'EAS': 300}\n",
      "\n",
      "\n",
      "Running in command line: \n",
      "\t bcftools view -S ../data/input/real/65k_SNP/2pop_600train.tsv -Ov -o ../data/input/real/65k_SNP/2pop_600train.vcf.gz ../data/input/real/65k_SNP/reference.vcf.gz \n",
      "\t bcftools view -S ../data/input/real/65k_SNP/2pop_404test.tsv -Ov -o ../data/input/real/65k_SNP/2pop_404test.vcf.gz ../data/input/real/65k_SNP/reference.vcf.gz\n",
      "\n",
      "Done\n",
      "----------------------------------------------------------------------------------------------------\n"
     ]
    }
   ],
   "source": [
    "#real train set\n",
    "pop_tr=['AFR','EAS']\n",
    "\n",
    "npop_2=len(pop_tr)\n",
    "nsamplepop_2=300\n",
    "\n",
    "train_file,train_list_file,train_map_file,prefix=naming_file(False,True,nsamplepop_2,npop_2,nSNP,'../data/input/')\n",
    "print(\"-\"*100)\n",
    "print('REAL TRAIN SET')\n",
    "\n",
    "print(train_file,train_list_file,train_map_file)\n",
    "print(prefix)\n",
    "\n",
    "\n",
    "#real query set\n",
    "print(\"-\"*100)\n",
    "print('REAL QUERY SET1')\n",
    "nquerypop_1=202\n",
    "\n",
    "query_file,query_list_file,query_map_file,prefix=naming_file(True,True,nquerypop_1,npop_2,nSNP,'../data/input/')\n",
    "print(query_file,query_list_file,query_map_file)\n",
    "print(prefix)\n",
    "\n",
    "print(\"-\"*100)\n",
    "reference_file=prefix+'reference.vcf.gz'\n",
    "reference_map_file=prefix+'reference.smap'\n",
    "print(reference_file)\n",
    "print(reference_map_file)\n",
    "\n",
    "extract_from_same_file(reference_file,reference_map_file,nquerypop_1,nsamplepop_2,train_map_file,query_map_file,train_list_file,query_list_file,train_file,query_file,pop_tr)\n",
    "print(\"-\"*100)\n",
    "sfile2=train_file\n",
    "sfile2_tsv=train_list_file\n",
    "sfile2_map=train_map_file\n",
    "\n",
    "\n",
    "qfile1=query_file\n",
    "qfile1_tsv=query_list_file\n",
    "qfile1_map=query_map_file"
   ]
  },
  {
   "cell_type": "code",
   "execution_count": 29,
   "metadata": {},
   "outputs": [
    {
     "name": "stdout",
     "output_type": "stream",
     "text": [
      "REAL QUERY SET2\n",
      "../data/input/real/65k_SNP/1pop_202test.vcf.gz ../data/input/real/65k_SNP/1pop_202test.tsv ../data/input/real/65k_SNP/1pop_202test.smap\n",
      "../data/input/real/65k_SNP/\n",
      "{'EUR': 202}\n",
      "\n",
      "\n",
      "Running in command line: \n",
      "\t bcftools view -S ../data/input/real/65k_SNP/1pop_202test.tsv -Ov -o ../data/input/real/65k_SNP/1pop_202test.vcf.gz ../data/input/real/65k_SNP/reference.vcf.gz\n",
      "Done\n",
      "----------------------------------------------------------------------------------------------------\n"
     ]
    }
   ],
   "source": [
    "print('REAL QUERY SET2')\n",
    "pop_qr=['EUR']\n",
    "npop=len(pop_qr)\n",
    "nquerypop_2=202\n",
    "\n",
    "query_file,query_list_file,query_map_file,prefix=naming_file(True,True,nquerypop_2,npop,nSNP,'../data/input/')\n",
    "\n",
    "reference_file=prefix+'reference.vcf.gz'\n",
    "reference_map_file=prefix+'reference.smap'\n",
    "print(query_file,query_list_file,query_map_file)\n",
    "print(prefix)\n",
    "\n",
    "extract_from_file(reference_file,reference_map_file,nquerypop_2,query_map_file,query_list_file,query_file,pop_qr)\n",
    "\n",
    "print(\"-\"*100)\n",
    "\n",
    "qfile2=query_file\n",
    "qfile2_tsv=query_list_file\n",
    "qfile2_map=query_map_file"
   ]
  },
  {
   "cell_type": "markdown",
   "metadata": {},
   "source": [
    "**Now we can merged the train set.**"
   ]
  },
  {
   "cell_type": "code",
   "execution_count": 30,
   "metadata": {},
   "outputs": [
    {
     "name": "stdout",
     "output_type": "stream",
     "text": [
      "----------------------------------------------------------------------------------------------------\n",
      "Creating index for the files\n",
      "Running in command line: \n",
      "\t bcftools index -f ../data/input/artificial/65k_SNP/1pop_300train.vcf.gz\n",
      "----------------------------------------------------------------------------------------------------\n",
      "Creating index for the files\n",
      "Running in command line: \n",
      "\t bcftools index -f ../data/input/real/65k_SNP/2pop_600train.vcf.gz\n",
      "----------------------------------------------------------------------------------------------------\n",
      "Merging\n",
      "Running in command line: \n",
      "\t bcftools merge ../data/input/artificial/65k_SNP/1pop_300train.vcf.gz ../data/input/real/65k_SNP/2pop_600train.vcf.gz -o ../data/input/mixed_set/65k_SNP/train900_rAFR-rEAS-aEUR-.vcf.gz -O v\n",
      "----------------------------------------------------------------------------------------------------\n",
      "Done\n"
     ]
    }
   ],
   "source": [
    "train_file,base1=output_name_mixed(0,nSNP,True,pop_tr,pop_ta,nsamplepop_1,'../data/input/mixed_set/')\n",
    "print(\"-\"*100)\n",
    "print('Creating index for the files')\n",
    "cmdi1='bcftools index -f '+ sfile1\n",
    "print(\"Running in command line: \\n\\t\", cmdi1)\n",
    "os.system(cmdi1)\n",
    "\n",
    "print(\"-\"*100)\n",
    "print('Creating index for the files')\n",
    "cmdi2='bcftools index -f '+ sfile2\n",
    "print(\"Running in command line: \\n\\t\", cmdi2)\n",
    "os.system(cmdi2)\n",
    "\n",
    "print(\"-\"*100)\n",
    "print('Merging')\n",
    "cmd=\"bcftools merge \"+sfile1 +\" \"+ sfile2+\" -o \"+ train_file+ \" -O v\"\n",
    "print(\"Running in command line: \\n\\t\", cmd)\n",
    "os.system(cmd)\n",
    "print(\"-\"*100)\n",
    "\n",
    "print('Done')"
   ]
  },
  {
   "cell_type": "markdown",
   "metadata": {},
   "source": [
    "**Merging tsv and smap files too.**"
   ]
  },
  {
   "cell_type": "code",
   "execution_count": 31,
   "metadata": {},
   "outputs": [],
   "source": [
    "# Read the TSV files into Pandas DataFrames\n",
    "df1 = pd.read_csv(sfile1_tsv, sep='\\t',header=None)\n",
    "df2 = pd.read_csv(sfile2_tsv, sep='\\t',header=None)\n",
    "\n",
    "# Concat the DataFrames\n",
    "merged_df = pd.concat([df1, df2],axis=0, ignore_index=True)\n",
    "# Save the merged DataFrame to a new TSV file\n",
    "train_list_file,_=output_name_mixed(1,nSNP,True,pop_tr,pop_ta,nsamplepop_1,'../data/input/mixed_set/')\n",
    "merged_df.to_csv(train_list_file, sep='\\t', index=False,header=False)"
   ]
  },
  {
   "cell_type": "code",
   "execution_count": 32,
   "metadata": {},
   "outputs": [],
   "source": [
    "# Read the map files into Pandas DataFrames\n",
    "df1 = pd.read_csv(sfile1_map, sep='\\t',header=None)\n",
    "df2 = pd.read_csv(sfile2_map, sep='\\t',header=None)\n",
    "\n",
    "# Concat the DataFrames\n",
    "merged_df = pd.concat([df1, df2],axis=0, ignore_index=True)\n",
    "# Save the merged DataFrame to a new smap file\n",
    "train_map_file,_=output_name_mixed(2,nSNP,True,pop_tr,pop_ta,nsamplepop_1,'../data/input/mixed_set/')\n",
    "merged_df.to_csv(train_map_file, sep='\\t', index=False,header=False)"
   ]
  },
  {
   "cell_type": "markdown",
   "metadata": {},
   "source": [
    "**Doing the same for the query set**"
   ]
  },
  {
   "cell_type": "code",
   "execution_count": 33,
   "metadata": {},
   "outputs": [
    {
     "name": "stdout",
     "output_type": "stream",
     "text": [
      "----------------------------------------------------------------------------------------------------\n",
      "Creating index for the files\n",
      "Running in command line: \n",
      "\t bcftools index -f ../data/input/real/65k_SNP/2pop_404test.vcf.gz\n",
      "----------------------------------------------------------------------------------------------------\n",
      "Creating index for the files\n",
      "Running in command line: \n",
      "\t bcftools index -f ../data/input/real/65k_SNP/1pop_202test.vcf.gz\n",
      "----------------------------------------------------------------------------------------------------\n",
      "Merging\n",
      "Running in command line: \n",
      "\t bcftools merge ../data/input/real/65k_SNP/2pop_404test.vcf.gz ../data/input/real/65k_SNP/1pop_202test.vcf.gz -o ../data/input/mixed_set/65k_SNP/test606_rAFR-rEUR-rEAS-.vcf.gz -O v\n",
      "----------------------------------------------------------------------------------------------------\n",
      "Done\n"
     ]
    }
   ],
   "source": [
    "pop_real=['AFR','EUR','EAS']\n",
    "pop_artificial=None\n",
    "test_file,base2=output_name_mixed(0,nSNP,False,pop_real,pop_artificial,nquerypop_1,'../data/input/mixed_set/')\n",
    "\n",
    "print(\"-\"*100)\n",
    "print('Creating index for the files')\n",
    "cmdi1='bcftools index -f '+ qfile1\n",
    "print(\"Running in command line: \\n\\t\", cmdi1)\n",
    "os.system(cmdi1)\n",
    "\n",
    "print(\"-\"*100)\n",
    "print('Creating index for the files')\n",
    "cmdi2='bcftools index -f '+ qfile2\n",
    "print(\"Running in command line: \\n\\t\", cmdi2)\n",
    "os.system(cmdi2)\n",
    "\n",
    "print(\"-\"*100)\n",
    "print('Merging')\n",
    "cmd=\"bcftools merge \"+qfile1 +\" \"+ qfile2+\" -o \"+ test_file+ \" -O v\"\n",
    "print(\"Running in command line: \\n\\t\", cmd)\n",
    "os.system(cmd)\n",
    "print(\"-\"*100)\n",
    "print('Done')"
   ]
  },
  {
   "cell_type": "markdown",
   "metadata": {},
   "source": [
    "Merging tsv and smap files too."
   ]
  },
  {
   "cell_type": "code",
   "execution_count": 34,
   "metadata": {},
   "outputs": [],
   "source": [
    "# Read the TSV files into Pandas DataFrames\n",
    "df1 = pd.read_csv(qfile1_tsv, sep='\\t',header=None)\n",
    "df2 = pd.read_csv(qfile2_tsv, sep='\\t',header=None)\n",
    "\n",
    "# Concat the DataFrames\n",
    "merged_df = pd.concat([df1, df2],axis=0, ignore_index=True)\n",
    "# Save the merged DataFrame to a new TSV file\n",
    "test_list_file,_=output_name_mixed(1,nSNP,False,pop_real,pop_artificial,nquerypop_1,'../data/input/mixed_set/')\n",
    "merged_df.to_csv(test_list_file, sep='\\t', index=False,header=False)"
   ]
  },
  {
   "cell_type": "code",
   "execution_count": 35,
   "metadata": {},
   "outputs": [],
   "source": [
    "# Read the map files into Pandas DataFrames\n",
    "df1 = pd.read_csv(qfile1_map, sep='\\t',header=None)\n",
    "df2 = pd.read_csv(qfile2_map, sep='\\t',header=None)\n",
    "\n",
    "# Concat the DataFrames\n",
    "merged_df = pd.concat([df1, df2],axis=0, ignore_index=True)\n",
    "# Save the merged DataFrame to a new smap file\n",
    "test_map_file,_=output_name_mixed(2,nSNP,False,pop_real,pop_artificial,nquerypop_1,'../data/input/mixed_set/')\n",
    "merged_df.to_csv(test_map_file, sep='\\t', index=False,header=False)"
   ]
  },
  {
   "cell_type": "code",
   "execution_count": 36,
   "metadata": {},
   "outputs": [
    {
     "name": "stdout",
     "output_type": "stream",
     "text": [
      "../data/output_lainet/mixed/train900_rAFR-rEAS-aEUR-test606_rAFR-rEUR-rEAS-/\n"
     ]
    }
   ],
   "source": [
    "output_basename='../data/output_lainet/mixed/'+base1+base2+'/'\n",
    "print(output_basename)\n"
   ]
  },
  {
   "cell_type": "code",
   "execution_count": 37,
   "metadata": {},
   "outputs": [],
   "source": [
    "if rm:\n",
    "    os.system('rm '+ sfile1+' '+sfile2+' '+qfile1+' '+qfile2)\n",
    "    os.system('rm '+ sfile1_tsv+' '+sfile2_tsv+' '+qfile1_tsv+' '+qfile2_tsv)\n",
    "    os.system('rm '+ sfile1_map+' '+sfile2_map+' '+qfile1_map+' '+qfile2_map)\n",
    "    os.system('rm '+ sfile1+'.csi '+sfile2+'.csi '+qfile1+'.csi '+qfile2+'.csi')"
   ]
  },
  {
   "cell_type": "code",
   "execution_count": 38,
   "metadata": {},
   "outputs": [
    {
     "name": "stdout",
     "output_type": "stream",
     "text": [
      "../data/input/mixed_set/65k_SNP/train900_rAFR-rEAS-aEUR-.vcf.gz\n",
      "../data/input/mixed_set/65k_SNP/test606_rAFR-rEUR-rEAS-.vcf.gz\n"
     ]
    }
   ],
   "source": [
    "print(train_file)\n",
    "print(test_file)"
   ]
  },
  {
   "cell_type": "markdown",
   "metadata": {
    "jp-MarkdownHeadingCollapsed": true,
    "tags": []
   },
   "source": [
    "## Merging intra continent"
   ]
  },
  {
   "cell_type": "code",
   "execution_count": 4,
   "metadata": {},
   "outputs": [],
   "source": [
    "subpopulation_id=pd.read_csv('../data/input/real/PUR_sample.tsv',delimiter='\\t',header=None)"
   ]
  },
  {
   "cell_type": "code",
   "execution_count": 46,
   "metadata": {},
   "outputs": [
    {
     "name": "stdout",
     "output_type": "stream",
     "text": [
      "----------------------------------------------------------------------------------------------------\n",
      "Creating index for the files\n",
      "Running in command line: \n",
      "\t bcftools index -f ../data/input/real/65k_SNP/subpop/PUR.vcf.gz\n",
      "----------------------------------------------------------------------------------------------------\n",
      "Creating index for the files\n",
      "Running in command line: \n",
      "\t bcftools index -f ../data/input/artificial/65k_SNP/reference.vcf.gz\n",
      "----------------------------------------------------------------------------------------------------\n",
      "Merging\n",
      "Running in command line: \n",
      "\t bcftools merge ../data/input/real/65k_SNP/subpop/PUR.vcf.gz ../data/input/artificial/65k_SNP/reference.vcf.gz -o ../data/input/mixed_set/65k_SNP/artificial+realPUR.vcf.gz -O v\n",
      "----------------------------------------------------------------------------------------------------\n",
      "Done\n"
     ]
    }
   ],
   "source": [
    "mixed_file='../data/input/mixed_set/65k_SNP/artificial+realPUR.vcf.gz'\n",
    "print(\"-\"*100)\n",
    "file1='../data/input/real/65k_SNP/subpop/PUR.vcf.gz'\n",
    "file1_smap='../data/input/real/65k_SNP/subpop/PUR.smap'\n",
    "print('Creating index for the files')\n",
    "cmdi1='bcftools index -f '+file1\n",
    "print(\"Running in command line: \\n\\t\", cmdi1)\n",
    "os.system(cmdi1)\n",
    "\n",
    "print(\"-\"*100)\n",
    "file2='../data/input/artificial/65k_SNP/reference.vcf.gz'\n",
    "file2_smap='../data/input/artificial/65k_SNP/reference.smap'\n",
    "print('Creating index for the files')\n",
    "cmdi2='bcftools index -f '+file2\n",
    "print(\"Running in command line: \\n\\t\", cmdi2)\n",
    "os.system(cmdi2)\n",
    "\n",
    "print(\"-\"*100)\n",
    "print('Merging')\n",
    "cmd=\"bcftools merge \"+file1 +\" \"+ file2+\" -o \"+ mixed_file+ \" -O v\"\n",
    "print(\"Running in command line: \\n\\t\", cmd)\n",
    "os.system(cmd)\n",
    "print(\"-\"*100)\n",
    "print('Done')"
   ]
  },
  {
   "cell_type": "code",
   "execution_count": 47,
   "metadata": {},
   "outputs": [],
   "source": [
    "# Read the map files into Pandas DataFrames\n",
    "df1 = pd.read_csv(file1_smap, sep='\\t',header=None)\n",
    "df2 = pd.read_csv(file2_smap, sep='\\t',header=None)\n",
    "\n",
    "# Concat the DataFrames\n",
    "merged_df = pd.concat([df1, df2],axis=0, ignore_index=True)\n",
    "# Save the merged DataFrame to a new smap file\n",
    "merged_df.to_csv('../data/input/mixed_set/65k_SNP/artificial+realPUR.smap', sep='\\t', index=False,header=False)"
   ]
  },
  {
   "cell_type": "code",
   "execution_count": 43,
   "metadata": {},
   "outputs": [
    {
     "name": "stdout",
     "output_type": "stream",
     "text": [
      "Running in command line: \n",
      "\t bcftools view -S ../data/input/real/PUR_sample.tsv -Ov -o ../data/input/real/65k_SNP/subpop/PUR.vcf.gz ../data/input/real/65k_SNP/reference.vcf.gz \n"
     ]
    }
   ],
   "source": [
    "cmd=f'bcftools view -S {subpopulation_id} -Ov -o ../data/input/real/65k_SNP/subpop/PUR.vcf.gz ../data/input/real/65k_SNP/reference.vcf.gz '\n",
    "os.system(cmd)\n",
    "print(\"Running in command line: \\n\\t\",cmd)"
   ]
  },
  {
   "cell_type": "markdown",
   "metadata": {
    "tags": []
   },
   "source": [
    "# RUNNING LAINET"
   ]
  },
  {
   "cell_type": "code",
   "execution_count": 39,
   "metadata": {},
   "outputs": [
    {
     "name": "stdout",
     "output_type": "stream",
     "text": [
      "Creating directory...\n",
      "Done\n",
      "{'MODEL': {'NETWORK': 'lainet', 'WINDOW_SIZE': 500}, 'TRAINING': {'DEVICE': 'cuda', 'OPTIM': 'Adam', 'ALPHA': 0.5, 'LEARNING_RATE': 0.01, 'WEIGHT_DECAY': 0.0, 'BATCH_SIZE': 128, 'BALANCED_TYPE': 'Batch', 'ONLINE_SIMULATION_MODE': 'pre-defined', 'ONLINE_SIMULATION_REALISTIC': True, 'GENERATION_NUM_LIST': [2, 4, 16, 32, 64], 'RANDOM_TRAINVAL_SPLIT': False, 'ITER_BREAK': 10, 'NUM_EPOCHS': 20000, 'SAVE_MODEL': True}}\n"
     ]
    }
   ],
   "source": [
    "chm              = 1\n",
    "#output_basename  = output_name('lainet',btrain,nsamplepop*5,btest,nquerypop*5)\n",
    "if (os.path.isdir(output_basename)==False):\n",
    "    print('Creating directory...')\n",
    "    os.mkdir(output_basename)\n",
    "    print('Done')\n",
    "    \n",
    "# Load vcf and map files and config\n",
    "config = yaml.load(open(config_path), Loader=yaml.FullLoader)\n",
    "\n",
    "print(config)"
   ]
  },
  {
   "cell_type": "markdown",
   "metadata": {},
   "source": [
    "The training can takes up to 20 minutes when done on the 65k SNP."
   ]
  },
  {
   "cell_type": "code",
   "execution_count": 40,
   "metadata": {
    "tags": []
   },
   "outputs": [
    {
     "name": "stdout",
     "output_type": "stream",
     "text": [
      "CPU times: user 2 µs, sys: 0 ns, total: 2 µs\n",
      "Wall time: 6.44 µs\n",
      "Loading vcf and .map files...\n",
      "Done loading vcf and .map files...\n",
      "A total of 899 diploid individuals where found in the vcf and .map\n",
      "A total of 3 ancestries where found: ['AFR' 'EAS' 'EUR']\n",
      "A total of 1618 sequences are used for training and 180 for validation...\n",
      "A total of 3 unique categories in train and 3 in val\n",
      "Reading genetic map from... ../data/input/real/allchrs_b37.gmap\n",
      "Information of models saved in ../data/output_lainet/mixed/train900_rAFR-rEAS-aEUR-test606_rAFR-rEUR-rEAS-/_info.npy...\n",
      "Creating Network...\n",
      "Starting training...\n",
      "Saving network in... ../data/output_lainet/mixed/train900_rAFR-rEAS-aEUR-test606_rAFR-rEUR-rEAS-/_0__network_model.pth\n",
      "Using genetic map for realistic simulation\n",
      "Validation set of shape torch.Size([330, 65535]) has been simulated...\n",
      "252812\n",
      "[     1] loss: 0.583\n",
      " accuracy is: 33.33 - Best is: 33.33 - Difference is: 0.00 - Time since best: 0\n",
      "[     3] loss: 1.114\n",
      "[     5] loss: 0.965\n",
      "[     7] loss: 0.925\n",
      "[     9] loss: 0.746\n",
      "[    11] loss: 0.682\n",
      " accuracy is: 40.18 - Best is: 40.18 - Difference is: 0.00 - Time since best: 0\n",
      "[    13] loss: 0.433\n",
      "[    15] loss: 0.652\n",
      "[    17] loss: 0.274\n",
      "[    19] loss: 0.275\n",
      "[    21] loss: 0.385\n",
      " accuracy is: 70.35 - Best is: 70.35 - Difference is: 0.00 - Time since best: 0\n",
      "[    23] loss: 0.372\n",
      "[    25] loss: 0.539\n",
      "[    27] loss: 0.469\n",
      "[    29] loss: 0.361\n",
      "[    31] loss: 0.254\n",
      " accuracy is: 77.80 - Best is: 77.80 - Difference is: 0.00 - Time since best: 0\n",
      "[    33] loss: 0.482\n",
      "[    35] loss: 0.364\n",
      "[    37] loss: 0.249\n",
      "[    39] loss: 0.424\n",
      "[    41] loss: 0.393\n",
      " accuracy is: 83.88 - Best is: 83.88 - Difference is: 0.00 - Time since best: 0\n",
      "[    43] loss: 0.315\n",
      "[    45] loss: 0.122\n",
      "[    47] loss: 0.320\n",
      "[    49] loss: 0.336\n",
      "[    51] loss: 0.106\n",
      " accuracy is: 86.88 - Best is: 86.88 - Difference is: 0.00 - Time since best: 0\n",
      "[    53] loss: 0.163\n",
      "[    55] loss: 0.122\n",
      "[    57] loss: 0.249\n",
      "[    59] loss: 0.212\n",
      "[    61] loss: 0.251\n",
      " accuracy is: 88.43 - Best is: 88.43 - Difference is: 0.00 - Time since best: 0\n",
      "[    63] loss: 0.250\n",
      "[    65] loss: 0.315\n",
      "[    67] loss: 0.136\n",
      "[    69] loss: 0.094\n",
      "[    71] loss: 0.219\n",
      " accuracy is: 89.33 - Best is: 89.33 - Difference is: 0.00 - Time since best: 0\n",
      "[    73] loss: 0.295\n",
      "[    75] loss: 0.176\n",
      "[    77] loss: 0.173\n",
      "[    79] loss: 0.229\n",
      "[    81] loss: 0.148\n",
      " accuracy is: 90.15 - Best is: 90.15 - Difference is: 0.00 - Time since best: 0\n",
      "[    83] loss: 0.278\n",
      "[    85] loss: 0.069\n",
      "[    87] loss: 0.130\n",
      "[    89] loss: 0.141\n",
      "[    91] loss: 0.134\n",
      " accuracy is: 90.76 - Best is: 90.76 - Difference is: 0.00 - Time since best: 0\n",
      "[    93] loss: 0.354\n",
      "[    95] loss: 0.213\n",
      "[    97] loss: 0.207\n",
      "[    99] loss: 0.164\n",
      "[   101] loss: 0.266\n",
      " accuracy is: 91.11 - Best is: 91.11 - Difference is: 0.00 - Time since best: 0\n",
      "[   103] loss: 0.150\n",
      "[   105] loss: 0.095\n",
      "[   107] loss: 0.193\n",
      "[   109] loss: 0.115\n",
      "[   111] loss: 0.193\n",
      " accuracy is: 91.64 - Best is: 91.64 - Difference is: 0.00 - Time since best: 0\n",
      "[   113] loss: 0.288\n",
      "[   115] loss: 0.083\n",
      "[   117] loss: 0.095\n",
      "[   119] loss: 0.147\n",
      "[   121] loss: 0.105\n",
      " accuracy is: 91.93 - Best is: 91.93 - Difference is: 0.00 - Time since best: 0\n",
      "[   123] loss: 0.092\n",
      "[   125] loss: 0.075\n",
      "[   127] loss: 0.065\n",
      "[   129] loss: 0.139\n",
      "[   131] loss: 0.176\n",
      " accuracy is: 92.04 - Best is: 92.04 - Difference is: 0.00 - Time since best: 0\n",
      "[   133] loss: 0.151\n",
      "[   135] loss: 0.165\n",
      "[   137] loss: 0.107\n",
      "[   139] loss: 0.104\n",
      "[   141] loss: 0.101\n",
      " accuracy is: 92.27 - Best is: 92.27 - Difference is: 0.00 - Time since best: 0\n",
      "[   143] loss: 0.063\n",
      "[   145] loss: 0.167\n",
      "[   147] loss: 0.160\n",
      "[   149] loss: 0.103\n",
      "[   151] loss: 0.064\n",
      " accuracy is: 92.28 - Best is: 92.28 - Difference is: 0.00 - Time since best: 0\n",
      "[   153] loss: 0.107\n",
      "[   155] loss: 0.146\n",
      "[   157] loss: 0.064\n",
      "[   159] loss: 0.045\n",
      "[   161] loss: 0.165\n",
      " accuracy is: 92.34 - Best is: 92.34 - Difference is: 0.00 - Time since best: 0\n",
      "[   163] loss: 0.165\n",
      "[   165] loss: 0.141\n",
      "[   167] loss: 0.192\n",
      "[   169] loss: 0.103\n",
      "[   171] loss: 0.115\n",
      " accuracy is: 92.43 - Best is: 92.43 - Difference is: 0.00 - Time since best: 0\n",
      "[   173] loss: 0.090\n",
      "[   175] loss: 0.172\n",
      "[   177] loss: 0.055\n",
      "[   179] loss: 0.150\n",
      "[   181] loss: 0.150\n",
      " accuracy is: 92.75 - Best is: 92.75 - Difference is: 0.00 - Time since best: 0\n",
      "[   183] loss: 0.127\n",
      "[   185] loss: 0.112\n",
      "[   187] loss: 0.212\n",
      "[   189] loss: 0.162\n",
      "[   191] loss: 0.204\n",
      " accuracy is: 92.65 - Best is: 92.75 - Difference is: 0.10 - Time since best: 1\n",
      "[   193] loss: 0.049\n",
      "[   195] loss: 0.208\n",
      "[   197] loss: 0.147\n",
      "[   199] loss: 0.105\n",
      "[   201] loss: 0.143\n",
      " accuracy is: 92.95 - Best is: 92.95 - Difference is: 0.00 - Time since best: 0\n",
      "[   203] loss: 0.037\n",
      "[   205] loss: 0.117\n",
      "[   207] loss: 0.084\n",
      "[   209] loss: 0.179\n",
      "[   211] loss: 0.047\n",
      " accuracy is: 92.99 - Best is: 92.99 - Difference is: 0.00 - Time since best: 0\n",
      "[   213] loss: 0.135\n",
      "[   215] loss: 0.128\n",
      "[   217] loss: 0.135\n",
      "[   219] loss: 0.209\n",
      "[   221] loss: 0.139\n",
      " accuracy is: 93.03 - Best is: 93.03 - Difference is: 0.00 - Time since best: 0\n",
      "[   223] loss: 0.054\n",
      "[   225] loss: 0.061\n",
      "[   227] loss: 0.147\n",
      "[   229] loss: 0.064\n",
      "[   231] loss: 0.188\n",
      " accuracy is: 93.33 - Best is: 93.33 - Difference is: 0.00 - Time since best: 0\n",
      "[   233] loss: 0.061\n",
      "[   235] loss: 0.092\n",
      "[   237] loss: 0.180\n",
      "[   239] loss: 0.061\n",
      "[   241] loss: 0.138\n",
      " accuracy is: 93.36 - Best is: 93.36 - Difference is: 0.00 - Time since best: 0\n",
      "[   243] loss: 0.098\n",
      "[   245] loss: 0.147\n",
      "[   247] loss: 0.098\n",
      "[   249] loss: 0.099\n",
      "[   251] loss: 0.155\n",
      " accuracy is: 93.48 - Best is: 93.48 - Difference is: 0.00 - Time since best: 0\n",
      "[   253] loss: 0.095\n",
      "[   255] loss: 0.052\n",
      "[   257] loss: 0.050\n",
      "[   259] loss: 0.156\n",
      "[   261] loss: 0.088\n",
      " accuracy is: 93.32 - Best is: 93.48 - Difference is: 0.17 - Time since best: 1\n",
      "[   263] loss: 0.087\n",
      "[   265] loss: 0.086\n",
      "[   267] loss: 0.149\n",
      "[   269] loss: 0.066\n",
      "[   271] loss: 0.051\n",
      " accuracy is: 93.40 - Best is: 93.48 - Difference is: 0.09 - Time since best: 2\n",
      "[   273] loss: 0.030\n",
      "[   275] loss: 0.043\n",
      "[   277] loss: 0.129\n",
      "[   279] loss: 0.121\n",
      "[   281] loss: 0.119\n",
      " accuracy is: 93.25 - Best is: 93.48 - Difference is: 0.23 - Time since best: 3\n",
      "[   283] loss: 0.193\n",
      "[   285] loss: 0.099\n",
      "[   287] loss: 0.117\n",
      "[   289] loss: 0.094\n",
      "[   291] loss: 0.129\n",
      " accuracy is: 93.61 - Best is: 93.61 - Difference is: 0.00 - Time since best: 0\n",
      "[   293] loss: 0.061\n",
      "[   295] loss: 0.173\n",
      "[   297] loss: 0.104\n",
      "[   299] loss: 0.066\n",
      "[   301] loss: 0.079\n",
      " accuracy is: 93.51 - Best is: 93.61 - Difference is: 0.10 - Time since best: 1\n",
      "[   303] loss: 0.152\n",
      "[   305] loss: 0.057\n",
      "[   307] loss: 0.141\n",
      "[   309] loss: 0.069\n",
      "[   311] loss: 0.128\n",
      " accuracy is: 93.46 - Best is: 93.61 - Difference is: 0.15 - Time since best: 2\n",
      "[   313] loss: 0.070\n",
      "[   315] loss: 0.143\n",
      "[   317] loss: 0.105\n",
      "[   319] loss: 0.122\n",
      "[   321] loss: 0.131\n",
      " accuracy is: 93.63 - Best is: 93.63 - Difference is: 0.00 - Time since best: 0\n",
      "[   323] loss: 0.071\n",
      "[   325] loss: 0.044\n",
      "[   327] loss: 0.162\n",
      "[   329] loss: 0.087\n",
      "[   331] loss: 0.061\n",
      " accuracy is: 93.81 - Best is: 93.81 - Difference is: 0.00 - Time since best: 0\n",
      "[   333] loss: 0.148\n",
      "[   335] loss: 0.066\n",
      "[   337] loss: 0.148\n",
      "[   339] loss: 0.060\n",
      "[   341] loss: 0.164\n",
      " accuracy is: 93.59 - Best is: 93.81 - Difference is: 0.22 - Time since best: 1\n",
      "[   343] loss: 0.122\n",
      "[   345] loss: 0.039\n",
      "[   347] loss: 0.053\n",
      "[   349] loss: 0.135\n",
      "[   351] loss: 0.110\n",
      " accuracy is: 93.79 - Best is: 93.81 - Difference is: 0.02 - Time since best: 2\n",
      "[   353] loss: 0.060\n",
      "[   355] loss: 0.189\n",
      "[   357] loss: 0.043\n",
      "[   359] loss: 0.095\n",
      "[   361] loss: 0.147\n",
      " accuracy is: 93.75 - Best is: 93.81 - Difference is: 0.06 - Time since best: 3\n",
      "[   363] loss: 0.058\n",
      "[   365] loss: 0.089\n",
      "[   367] loss: 0.067\n",
      "[   369] loss: 0.132\n",
      "[   371] loss: 0.072\n",
      " accuracy is: 93.59 - Best is: 93.81 - Difference is: 0.22 - Time since best: 4\n",
      "[   373] loss: 0.120\n",
      "[   375] loss: 0.039\n",
      "[   377] loss: 0.071\n",
      "[   379] loss: 0.173\n",
      "[   381] loss: 0.064\n",
      " accuracy is: 93.89 - Best is: 93.89 - Difference is: 0.00 - Time since best: 0\n",
      "[   383] loss: 0.047\n",
      "[   385] loss: 0.115\n",
      "[   387] loss: 0.029\n",
      "[   389] loss: 0.035\n",
      "[   391] loss: 0.044\n",
      " accuracy is: 93.86 - Best is: 93.89 - Difference is: 0.03 - Time since best: 1\n",
      "[   393] loss: 0.044\n",
      "[   395] loss: 0.048\n",
      "[   397] loss: 0.133\n",
      "[   399] loss: 0.025\n",
      "[   401] loss: 0.098\n",
      " accuracy is: 93.95 - Best is: 93.95 - Difference is: 0.00 - Time since best: 0\n",
      "[   403] loss: 0.113\n",
      "[   405] loss: 0.116\n",
      "[   407] loss: 0.028\n",
      "[   409] loss: 0.137\n",
      "[   411] loss: 0.105\n",
      " accuracy is: 93.69 - Best is: 93.95 - Difference is: 0.26 - Time since best: 1\n",
      "[   413] loss: 0.088\n",
      "[   415] loss: 0.097\n",
      "[   417] loss: 0.098\n",
      "[   419] loss: 0.092\n",
      "[   421] loss: 0.039\n",
      " accuracy is: 93.84 - Best is: 93.95 - Difference is: 0.11 - Time since best: 2\n",
      "[   423] loss: 0.074\n",
      "[   425] loss: 0.045\n",
      "[   427] loss: 0.098\n",
      "[   429] loss: 0.066\n",
      "[   431] loss: 0.117\n",
      " accuracy is: 93.96 - Best is: 93.96 - Difference is: 0.00 - Time since best: 0\n",
      "[   433] loss: 0.092\n",
      "[   435] loss: 0.027\n",
      "[   437] loss: 0.034\n",
      "[   439] loss: 0.069\n",
      "[   441] loss: 0.146\n",
      " accuracy is: 93.93 - Best is: 93.96 - Difference is: 0.04 - Time since best: 1\n",
      "[   443] loss: 0.105\n",
      "[   445] loss: 0.072\n",
      "[   447] loss: 0.108\n",
      "[   449] loss: 0.110\n",
      "[   451] loss: 0.081\n",
      " accuracy is: 93.71 - Best is: 93.96 - Difference is: 0.25 - Time since best: 2\n",
      "[   453] loss: 0.074\n",
      "[   455] loss: 0.049\n",
      "[   457] loss: 0.026\n",
      "[   459] loss: 0.100\n",
      "[   461] loss: 0.141\n",
      " accuracy is: 93.97 - Best is: 93.97 - Difference is: 0.00 - Time since best: 0\n",
      "[   463] loss: 0.050\n",
      "[   465] loss: 0.183\n",
      "[   467] loss: 0.052\n",
      "[   469] loss: 0.037\n",
      "[   471] loss: 0.034\n",
      " accuracy is: 93.96 - Best is: 93.97 - Difference is: 0.01 - Time since best: 1\n",
      "[   473] loss: 0.046\n",
      "[   475] loss: 0.033\n",
      "[   477] loss: 0.025\n",
      "[   479] loss: 0.024\n",
      "[   481] loss: 0.037\n",
      " accuracy is: 94.07 - Best is: 94.07 - Difference is: 0.00 - Time since best: 0\n",
      "[   483] loss: 0.037\n",
      "[   485] loss: 0.089\n",
      "[   487] loss: 0.028\n",
      "[   489] loss: 0.142\n",
      "[   491] loss: 0.073\n",
      " accuracy is: 94.01 - Best is: 94.07 - Difference is: 0.06 - Time since best: 1\n",
      "[   493] loss: 0.087\n",
      "[   495] loss: 0.061\n",
      "[   497] loss: 0.032\n",
      "[   499] loss: 0.091\n",
      "[   501] loss: 0.040\n",
      " accuracy is: 93.92 - Best is: 94.07 - Difference is: 0.15 - Time since best: 2\n",
      "[   503] loss: 0.133\n",
      "[   505] loss: 0.083\n",
      "[   507] loss: 0.080\n",
      "[   509] loss: 0.031\n",
      "[   511] loss: 0.099\n",
      " accuracy is: 93.87 - Best is: 94.07 - Difference is: 0.20 - Time since best: 3\n",
      "[   513] loss: 0.056\n",
      "[   515] loss: 0.073\n",
      "[   517] loss: 0.039\n",
      "[   519] loss: 0.035\n",
      "[   521] loss: 0.056\n",
      " accuracy is: 94.14 - Best is: 94.14 - Difference is: 0.00 - Time since best: 0\n",
      "[   523] loss: 0.064\n",
      "[   525] loss: 0.024\n",
      "[   527] loss: 0.165\n",
      "[   529] loss: 0.029\n",
      "[   531] loss: 0.034\n",
      " accuracy is: 93.86 - Best is: 94.14 - Difference is: 0.28 - Time since best: 1\n",
      "[   533] loss: 0.157\n",
      "[   535] loss: 0.088\n",
      "[   537] loss: 0.180\n",
      "[   539] loss: 0.084\n",
      "[   541] loss: 0.109\n",
      " accuracy is: 93.80 - Best is: 94.14 - Difference is: 0.34 - Time since best: 2\n",
      "[   543] loss: 0.174\n",
      "[   545] loss: 0.134\n",
      "[   547] loss: 0.097\n",
      "[   549] loss: 0.033\n",
      "[   551] loss: 0.039\n",
      " accuracy is: 93.89 - Best is: 94.14 - Difference is: 0.26 - Time since best: 3\n",
      "[   553] loss: 0.031\n",
      "[   555] loss: 0.108\n",
      "[   557] loss: 0.105\n",
      "[   559] loss: 0.132\n",
      "[   561] loss: 0.028\n",
      " accuracy is: 94.04 - Best is: 94.14 - Difference is: 0.10 - Time since best: 4\n",
      "[   563] loss: 0.110\n",
      "[   565] loss: 0.031\n",
      "[   567] loss: 0.037\n",
      "[   569] loss: 0.098\n",
      "[   571] loss: 0.046\n",
      " accuracy is: 94.06 - Best is: 94.14 - Difference is: 0.09 - Time since best: 5\n",
      "Setting learning rate to...  0.001\n",
      "[   573] loss: 0.092\n",
      "[   575] loss: 0.039\n",
      "[   577] loss: 0.074\n",
      "[   579] loss: 0.066\n",
      "[   581] loss: 0.079\n",
      " accuracy is: 94.19 - Best is: 94.19 - Difference is: 0.00 - Time since best: 0\n",
      "[   583] loss: 0.059\n",
      "[   585] loss: 0.094\n",
      "[   587] loss: 0.050\n",
      "[   589] loss: 0.104\n",
      "[   591] loss: 0.072\n",
      " accuracy is: 94.27 - Best is: 94.27 - Difference is: 0.00 - Time since best: 0\n",
      "[   593] loss: 0.031\n",
      "[   595] loss: 0.032\n",
      "[   597] loss: 0.070\n",
      "[   599] loss: 0.062\n",
      "[   601] loss: 0.100\n",
      " accuracy is: 94.30 - Best is: 94.30 - Difference is: 0.00 - Time since best: 0\n",
      "[   603] loss: 0.084\n",
      "[   605] loss: 0.032\n",
      "[   607] loss: 0.061\n",
      "[   609] loss: 0.026\n",
      "[   611] loss: 0.081\n",
      " accuracy is: 94.38 - Best is: 94.38 - Difference is: 0.00 - Time since best: 0\n",
      "[   613] loss: 0.113\n",
      "[   615] loss: 0.092\n",
      "[   617] loss: 0.064\n",
      "[   619] loss: 0.034\n",
      "[   621] loss: 0.074\n",
      " accuracy is: 94.42 - Best is: 94.42 - Difference is: 0.00 - Time since best: 0\n",
      "[   623] loss: 0.043\n",
      "[   625] loss: 0.085\n",
      "[   627] loss: 0.020\n",
      "[   629] loss: 0.054\n",
      "[   631] loss: 0.019\n",
      " accuracy is: 94.41 - Best is: 94.42 - Difference is: 0.01 - Time since best: 1\n",
      "[   633] loss: 0.024\n",
      "[   635] loss: 0.098\n",
      "[   637] loss: 0.017\n",
      "[   639] loss: 0.032\n",
      "[   641] loss: 0.032\n",
      " accuracy is: 94.40 - Best is: 94.42 - Difference is: 0.01 - Time since best: 2\n",
      "[   643] loss: 0.107\n",
      "[   645] loss: 0.048\n",
      "[   647] loss: 0.033\n",
      "[   649] loss: 0.051\n",
      "[   651] loss: 0.039\n",
      " accuracy is: 94.43 - Best is: 94.43 - Difference is: 0.00 - Time since best: 0\n",
      "[   653] loss: 0.034\n",
      "[   655] loss: 0.070\n",
      "[   657] loss: 0.108\n",
      "[   659] loss: 0.055\n",
      "[   661] loss: 0.045\n",
      " accuracy is: 94.48 - Best is: 94.48 - Difference is: 0.00 - Time since best: 0\n",
      "[   663] loss: 0.059\n",
      "[   665] loss: 0.148\n",
      "[   667] loss: 0.092\n",
      "[   669] loss: 0.055\n",
      "[   671] loss: 0.043\n",
      " accuracy is: 94.46 - Best is: 94.48 - Difference is: 0.02 - Time since best: 1\n",
      "[   673] loss: 0.110\n",
      "[   675] loss: 0.111\n",
      "[   677] loss: 0.071\n",
      "[   679] loss: 0.034\n",
      "[   681] loss: 0.083\n",
      " accuracy is: 94.43 - Best is: 94.48 - Difference is: 0.05 - Time since best: 2\n",
      "[   683] loss: 0.181\n",
      "[   685] loss: 0.036\n",
      "[   687] loss: 0.031\n",
      "[   689] loss: 0.045\n",
      "[   691] loss: 0.096\n",
      " accuracy is: 94.49 - Best is: 94.49 - Difference is: 0.00 - Time since best: 0\n",
      "[   693] loss: 0.018\n",
      "[   695] loss: 0.030\n",
      "[   697] loss: 0.127\n",
      "[   699] loss: 0.055\n",
      "[   701] loss: 0.026\n",
      " accuracy is: 94.50 - Best is: 94.50 - Difference is: 0.00 - Time since best: 0\n",
      "[   703] loss: 0.091\n",
      "[   705] loss: 0.095\n",
      "[   707] loss: 0.089\n",
      "[   709] loss: 0.017\n",
      "[   711] loss: 0.093\n",
      " accuracy is: 94.54 - Best is: 94.54 - Difference is: 0.00 - Time since best: 0\n",
      "[   713] loss: 0.095\n",
      "[   715] loss: 0.047\n",
      "[   717] loss: 0.056\n",
      "[   719] loss: 0.045\n",
      "[   721] loss: 0.078\n",
      " accuracy is: 94.54 - Best is: 94.54 - Difference is: 0.00 - Time since best: 0\n",
      "[   723] loss: 0.051\n",
      "[   725] loss: 0.041\n",
      "[   727] loss: 0.078\n",
      "[   729] loss: 0.022\n",
      "[   731] loss: 0.046\n",
      " accuracy is: 94.53 - Best is: 94.54 - Difference is: 0.01 - Time since best: 1\n",
      "[   733] loss: 0.033\n",
      "[   735] loss: 0.037\n",
      "[   737] loss: 0.081\n",
      "[   739] loss: 0.066\n",
      "[   741] loss: 0.033\n",
      " accuracy is: 94.51 - Best is: 94.54 - Difference is: 0.03 - Time since best: 2\n",
      "[   743] loss: 0.055\n",
      "[   745] loss: 0.083\n",
      "[   747] loss: 0.076\n",
      "[   749] loss: 0.023\n",
      "[   751] loss: 0.072\n",
      " accuracy is: 94.51 - Best is: 94.54 - Difference is: 0.03 - Time since best: 3\n",
      "[   753] loss: 0.112\n",
      "[   755] loss: 0.027\n",
      "[   757] loss: 0.041\n",
      "[   759] loss: 0.024\n",
      "[   761] loss: 0.042\n",
      " accuracy is: 94.51 - Best is: 94.54 - Difference is: 0.03 - Time since best: 4\n",
      "[   763] loss: 0.116\n",
      "[   765] loss: 0.108\n",
      "[   767] loss: 0.115\n",
      "[   769] loss: 0.096\n",
      "[   771] loss: 0.068\n",
      " accuracy is: 94.48 - Best is: 94.54 - Difference is: 0.07 - Time since best: 5\n",
      "Setting learning rate to...  0.0001\n",
      "[   773] loss: 0.076\n",
      "[   775] loss: 0.018\n",
      "[   777] loss: 0.091\n",
      "[   779] loss: 0.053\n",
      "[   781] loss: 0.044\n",
      " accuracy is: 94.49 - Best is: 94.54 - Difference is: 0.05 - Time since best: 6\n",
      "[   783] loss: 0.054\n",
      "[   785] loss: 0.046\n",
      "[   787] loss: 0.049\n",
      "[   789] loss: 0.089\n",
      "[   791] loss: 0.022\n",
      " accuracy is: 94.51 - Best is: 94.54 - Difference is: 0.03 - Time since best: 7\n",
      "[   793] loss: 0.045\n",
      "[   795] loss: 0.046\n",
      "[   797] loss: 0.110\n",
      "[   799] loss: 0.134\n",
      "[   801] loss: 0.073\n",
      " accuracy is: 94.51 - Best is: 94.54 - Difference is: 0.03 - Time since best: 8\n",
      "[   803] loss: 0.027\n",
      "[   805] loss: 0.018\n",
      "[   807] loss: 0.019\n",
      "[   809] loss: 0.116\n",
      "[   811] loss: 0.094\n",
      " accuracy is: 94.53 - Best is: 94.54 - Difference is: 0.01 - Time since best: 9\n",
      "[   813] loss: 0.055\n",
      "[   815] loss: 0.107\n",
      "[   817] loss: 0.080\n",
      "[   819] loss: 0.087\n",
      "[   821] loss: 0.073\n",
      " accuracy is: 94.50 - Best is: 94.54 - Difference is: 0.04 - Time since best: 10\n",
      "Finished with accuracy 0.9454299807548523 after 601.9842712879181 seconds...\n",
      "Running validation report...\n",
      "Loading... ../data/output_lainet/mixed/train900_rAFR-rEAS-aEUR-test606_rAFR-rEUR-rEAS-/_0__network_model.pth\n"
     ]
    },
    {
     "name": "stderr",
     "output_type": "stream",
     "text": [
      "/shared/ifbstor1/projects/machinelearning_popgen/ter-bioinfo3/ter-bioinfo/LAI-NET/lainet/training.py:381: UserWarning: To copy construct from a tensor, it is recommended to use sourceTensor.clone().detach() or sourceTensor.clone().detach().requires_grad_(True), rather than torch.tensor(sourceTensor).\n",
      "  val_labels = torch.tensor(val_labels_).to('cpu')\n"
     ]
    },
    {
     "name": "stdout",
     "output_type": "stream",
     "text": [
      "Hard prediction evaluation\n",
      "\n",
      "              precision    recall  f1-score   support\n",
      "\n",
      "         AFR       0.98      0.89      0.93     14540\n",
      "         EAS       0.96      0.98      0.97     14413\n",
      "         EUR       0.90      0.97      0.93     14277\n",
      "\n",
      "    accuracy                           0.95     43230\n",
      "   macro avg       0.95      0.95      0.94     43230\n",
      "weighted avg       0.95      0.95      0.94     43230\n",
      "\n",
      "\n",
      "\n",
      "\n",
      "Soft prediction evaluation\n",
      "\n",
      "        AP\n",
      "---  -----\n",
      "AFR  0.975\n",
      "EAS  0.996\n",
      "EUR  0.970\n",
      "\n",
      "\n",
      "\n",
      "Confusion Matrix\n",
      "\n",
      "       AFR    EAS    EUR\n",
      "---  -----  -----  -----\n",
      "AFR  12930    283   1327\n",
      "EAS     80  14137    196\n",
      "EUR    216    270  13791\n",
      "\n",
      "\n",
      "\n",
      "Confusion Matrix (Normalized)\n",
      "\n",
      "       AFR    EAS    EUR\n",
      "---  -----  -----  -----\n",
      "AFR   88.9    1.9    9.1\n",
      "EAS    0.6   98.1    1.4\n",
      "EUR    1.5    1.9   96.6\n",
      "\n",
      "\n",
      "\n",
      "Summary: \n",
      "\n",
      "Accuracy 0.9451306962757344\n",
      "Balanced Accuracy 0.9453602775722816\n",
      "Jaccard Index (micro) 0.8959694750230253\n",
      "Jaccard Index (macro) 0.8963281976113944\n",
      "Mean (macro) Average Precision 0.9804648178247315\n"
     ]
    }
   ],
   "source": [
    "%time\n",
    "## Training\n",
    "train_main(config, train_file, train_map_file, output_basename,chm,genetic_map_file)"
   ]
  },
  {
   "cell_type": "code",
   "execution_count": 41,
   "metadata": {},
   "outputs": [
    {
     "name": "stdout",
     "output_type": "stream",
     "text": [
      "CPU times: user 1 µs, sys: 1e+03 ns, total: 2 µs\n",
      "Wall time: 3.81 µs\n",
      "Starting inference...\n",
      "Loading best performing networks...\n",
      "Loading Meta-data...\n",
      "Loading query vcf in...../data/input/mixed_set/65k_SNP/test606_rAFR-rEUR-rEAS-.vcf.gz\n",
      "- Number of SNPs from model: 65535\n",
      "- Number of SNPs from file: 65535\n",
      "- Number of intersecting SNPs: 65535\n",
      "- Percentage of model SNPs covered by query file: 100.0%\n",
      "Running network...\n",
      "torch.Size([606, 131, 2])\n",
      "Writing .msp file...\n",
      "Done writing\n"
     ]
    }
   ],
   "source": [
    "%time\n",
    "## Inference\n",
    "net, predicted, probs, val_snps = inference_main(config, test_file, output_basename, output_basename)"
   ]
  },
  {
   "cell_type": "code",
   "execution_count": 42,
   "metadata": {},
   "outputs": [
    {
     "name": "stdout",
     "output_type": "stream",
     "text": [
      "Plotting results!\n"
     ]
    },
    {
     "data": {
      "text/html": [
       "<div>\n",
       "<style scoped>\n",
       "    .dataframe tbody tr th:only-of-type {\n",
       "        vertical-align: middle;\n",
       "    }\n",
       "\n",
       "    .dataframe tbody tr th {\n",
       "        vertical-align: top;\n",
       "    }\n",
       "\n",
       "    .dataframe thead th {\n",
       "        text-align: right;\n",
       "    }\n",
       "</style>\n",
       "<table border=\"1\" class=\"dataframe\">\n",
       "  <thead>\n",
       "    <tr style=\"text-align: right;\">\n",
       "      <th></th>\n",
       "      <th>#chm</th>\n",
       "      <th>spos</th>\n",
       "      <th>epos</th>\n",
       "      <th>sgpos</th>\n",
       "      <th>egpos</th>\n",
       "      <th>n snps</th>\n",
       "      <th>NA19434.0</th>\n",
       "      <th>NA19434.1</th>\n",
       "      <th>HG02759.0</th>\n",
       "      <th>HG02759.1</th>\n",
       "      <th>...</th>\n",
       "      <th>HG00369.0</th>\n",
       "      <th>HG00369.1</th>\n",
       "      <th>NA20803.0</th>\n",
       "      <th>NA20803.1</th>\n",
       "      <th>HG00364.0</th>\n",
       "      <th>HG00364.1</th>\n",
       "      <th>HG00367.0</th>\n",
       "      <th>HG00367.1</th>\n",
       "      <th>NA12761.0</th>\n",
       "      <th>NA12761.1</th>\n",
       "    </tr>\n",
       "  </thead>\n",
       "  <tbody>\n",
       "    <tr>\n",
       "      <th>0</th>\n",
       "      <td>1</td>\n",
       "      <td>534247</td>\n",
       "      <td>1213305</td>\n",
       "      <td>1</td>\n",
       "      <td>1</td>\n",
       "      <td>500</td>\n",
       "      <td>0</td>\n",
       "      <td>0</td>\n",
       "      <td>0</td>\n",
       "      <td>0</td>\n",
       "      <td>...</td>\n",
       "      <td>2</td>\n",
       "      <td>2</td>\n",
       "      <td>2</td>\n",
       "      <td>2</td>\n",
       "      <td>2</td>\n",
       "      <td>2</td>\n",
       "      <td>1</td>\n",
       "      <td>2</td>\n",
       "      <td>2</td>\n",
       "      <td>2</td>\n",
       "    </tr>\n",
       "    <tr>\n",
       "      <th>1</th>\n",
       "      <td>1</td>\n",
       "      <td>1213496</td>\n",
       "      <td>1976558</td>\n",
       "      <td>1</td>\n",
       "      <td>1</td>\n",
       "      <td>500</td>\n",
       "      <td>0</td>\n",
       "      <td>0</td>\n",
       "      <td>0</td>\n",
       "      <td>0</td>\n",
       "      <td>...</td>\n",
       "      <td>2</td>\n",
       "      <td>2</td>\n",
       "      <td>2</td>\n",
       "      <td>2</td>\n",
       "      <td>2</td>\n",
       "      <td>2</td>\n",
       "      <td>2</td>\n",
       "      <td>2</td>\n",
       "      <td>2</td>\n",
       "      <td>2</td>\n",
       "    </tr>\n",
       "    <tr>\n",
       "      <th>2</th>\n",
       "      <td>1</td>\n",
       "      <td>1978655</td>\n",
       "      <td>2380292</td>\n",
       "      <td>1</td>\n",
       "      <td>1</td>\n",
       "      <td>500</td>\n",
       "      <td>0</td>\n",
       "      <td>0</td>\n",
       "      <td>0</td>\n",
       "      <td>0</td>\n",
       "      <td>...</td>\n",
       "      <td>2</td>\n",
       "      <td>2</td>\n",
       "      <td>2</td>\n",
       "      <td>2</td>\n",
       "      <td>2</td>\n",
       "      <td>2</td>\n",
       "      <td>2</td>\n",
       "      <td>2</td>\n",
       "      <td>2</td>\n",
       "      <td>2</td>\n",
       "    </tr>\n",
       "    <tr>\n",
       "      <th>3</th>\n",
       "      <td>1</td>\n",
       "      <td>2381568</td>\n",
       "      <td>2983963</td>\n",
       "      <td>1</td>\n",
       "      <td>1</td>\n",
       "      <td>500</td>\n",
       "      <td>0</td>\n",
       "      <td>0</td>\n",
       "      <td>0</td>\n",
       "      <td>0</td>\n",
       "      <td>...</td>\n",
       "      <td>2</td>\n",
       "      <td>0</td>\n",
       "      <td>2</td>\n",
       "      <td>2</td>\n",
       "      <td>2</td>\n",
       "      <td>2</td>\n",
       "      <td>1</td>\n",
       "      <td>1</td>\n",
       "      <td>2</td>\n",
       "      <td>2</td>\n",
       "    </tr>\n",
       "    <tr>\n",
       "      <th>4</th>\n",
       "      <td>1</td>\n",
       "      <td>2984087</td>\n",
       "      <td>3324243</td>\n",
       "      <td>1</td>\n",
       "      <td>1</td>\n",
       "      <td>500</td>\n",
       "      <td>0</td>\n",
       "      <td>0</td>\n",
       "      <td>0</td>\n",
       "      <td>0</td>\n",
       "      <td>...</td>\n",
       "      <td>2</td>\n",
       "      <td>1</td>\n",
       "      <td>2</td>\n",
       "      <td>2</td>\n",
       "      <td>2</td>\n",
       "      <td>2</td>\n",
       "      <td>2</td>\n",
       "      <td>2</td>\n",
       "      <td>2</td>\n",
       "      <td>2</td>\n",
       "    </tr>\n",
       "    <tr>\n",
       "      <th>...</th>\n",
       "      <td>...</td>\n",
       "      <td>...</td>\n",
       "      <td>...</td>\n",
       "      <td>...</td>\n",
       "      <td>...</td>\n",
       "      <td>...</td>\n",
       "      <td>...</td>\n",
       "      <td>...</td>\n",
       "      <td>...</td>\n",
       "      <td>...</td>\n",
       "      <td>...</td>\n",
       "      <td>...</td>\n",
       "      <td>...</td>\n",
       "      <td>...</td>\n",
       "      <td>...</td>\n",
       "      <td>...</td>\n",
       "      <td>...</td>\n",
       "      <td>...</td>\n",
       "      <td>...</td>\n",
       "      <td>...</td>\n",
       "      <td>...</td>\n",
       "    </tr>\n",
       "    <tr>\n",
       "      <th>126</th>\n",
       "      <td>1</td>\n",
       "      <td>78800843</td>\n",
       "      <td>79427502</td>\n",
       "      <td>1</td>\n",
       "      <td>1</td>\n",
       "      <td>500</td>\n",
       "      <td>0</td>\n",
       "      <td>0</td>\n",
       "      <td>0</td>\n",
       "      <td>0</td>\n",
       "      <td>...</td>\n",
       "      <td>2</td>\n",
       "      <td>2</td>\n",
       "      <td>2</td>\n",
       "      <td>2</td>\n",
       "      <td>2</td>\n",
       "      <td>2</td>\n",
       "      <td>2</td>\n",
       "      <td>2</td>\n",
       "      <td>2</td>\n",
       "      <td>2</td>\n",
       "    </tr>\n",
       "    <tr>\n",
       "      <th>127</th>\n",
       "      <td>1</td>\n",
       "      <td>79429708</td>\n",
       "      <td>80098006</td>\n",
       "      <td>1</td>\n",
       "      <td>1</td>\n",
       "      <td>500</td>\n",
       "      <td>0</td>\n",
       "      <td>0</td>\n",
       "      <td>0</td>\n",
       "      <td>0</td>\n",
       "      <td>...</td>\n",
       "      <td>0</td>\n",
       "      <td>2</td>\n",
       "      <td>2</td>\n",
       "      <td>2</td>\n",
       "      <td>2</td>\n",
       "      <td>2</td>\n",
       "      <td>0</td>\n",
       "      <td>2</td>\n",
       "      <td>2</td>\n",
       "      <td>2</td>\n",
       "    </tr>\n",
       "    <tr>\n",
       "      <th>128</th>\n",
       "      <td>1</td>\n",
       "      <td>80098823</td>\n",
       "      <td>80741675</td>\n",
       "      <td>1</td>\n",
       "      <td>1</td>\n",
       "      <td>500</td>\n",
       "      <td>0</td>\n",
       "      <td>0</td>\n",
       "      <td>0</td>\n",
       "      <td>0</td>\n",
       "      <td>...</td>\n",
       "      <td>0</td>\n",
       "      <td>2</td>\n",
       "      <td>0</td>\n",
       "      <td>2</td>\n",
       "      <td>2</td>\n",
       "      <td>2</td>\n",
       "      <td>0</td>\n",
       "      <td>2</td>\n",
       "      <td>1</td>\n",
       "      <td>2</td>\n",
       "    </tr>\n",
       "    <tr>\n",
       "      <th>129</th>\n",
       "      <td>1</td>\n",
       "      <td>80741898</td>\n",
       "      <td>81317390</td>\n",
       "      <td>1</td>\n",
       "      <td>1</td>\n",
       "      <td>500</td>\n",
       "      <td>0</td>\n",
       "      <td>0</td>\n",
       "      <td>0</td>\n",
       "      <td>0</td>\n",
       "      <td>...</td>\n",
       "      <td>0</td>\n",
       "      <td>2</td>\n",
       "      <td>2</td>\n",
       "      <td>2</td>\n",
       "      <td>2</td>\n",
       "      <td>2</td>\n",
       "      <td>0</td>\n",
       "      <td>2</td>\n",
       "      <td>2</td>\n",
       "      <td>1</td>\n",
       "    </tr>\n",
       "    <tr>\n",
       "      <th>130</th>\n",
       "      <td>1</td>\n",
       "      <td>81317902</td>\n",
       "      <td>81813279</td>\n",
       "      <td>1</td>\n",
       "      <td>1</td>\n",
       "      <td>535</td>\n",
       "      <td>0</td>\n",
       "      <td>0</td>\n",
       "      <td>0</td>\n",
       "      <td>0</td>\n",
       "      <td>...</td>\n",
       "      <td>0</td>\n",
       "      <td>2</td>\n",
       "      <td>1</td>\n",
       "      <td>2</td>\n",
       "      <td>2</td>\n",
       "      <td>2</td>\n",
       "      <td>0</td>\n",
       "      <td>2</td>\n",
       "      <td>1</td>\n",
       "      <td>0</td>\n",
       "    </tr>\n",
       "  </tbody>\n",
       "</table>\n",
       "<p>131 rows × 1218 columns</p>\n",
       "</div>"
      ],
      "text/plain": [
       "     #chm      spos      epos  sgpos  egpos  n snps  NA19434.0  NA19434.1  \\\n",
       "0       1    534247   1213305      1      1     500          0          0   \n",
       "1       1   1213496   1976558      1      1     500          0          0   \n",
       "2       1   1978655   2380292      1      1     500          0          0   \n",
       "3       1   2381568   2983963      1      1     500          0          0   \n",
       "4       1   2984087   3324243      1      1     500          0          0   \n",
       "..    ...       ...       ...    ...    ...     ...        ...        ...   \n",
       "126     1  78800843  79427502      1      1     500          0          0   \n",
       "127     1  79429708  80098006      1      1     500          0          0   \n",
       "128     1  80098823  80741675      1      1     500          0          0   \n",
       "129     1  80741898  81317390      1      1     500          0          0   \n",
       "130     1  81317902  81813279      1      1     535          0          0   \n",
       "\n",
       "     HG02759.0  HG02759.1  ...  HG00369.0  HG00369.1  NA20803.0  NA20803.1  \\\n",
       "0            0          0  ...          2          2          2          2   \n",
       "1            0          0  ...          2          2          2          2   \n",
       "2            0          0  ...          2          2          2          2   \n",
       "3            0          0  ...          2          0          2          2   \n",
       "4            0          0  ...          2          1          2          2   \n",
       "..         ...        ...  ...        ...        ...        ...        ...   \n",
       "126          0          0  ...          2          2          2          2   \n",
       "127          0          0  ...          0          2          2          2   \n",
       "128          0          0  ...          0          2          0          2   \n",
       "129          0          0  ...          0          2          2          2   \n",
       "130          0          0  ...          0          2          1          2   \n",
       "\n",
       "     HG00364.0  HG00364.1  HG00367.0  HG00367.1  NA12761.0  NA12761.1  \n",
       "0            2          2          1          2          2          2  \n",
       "1            2          2          2          2          2          2  \n",
       "2            2          2          2          2          2          2  \n",
       "3            2          2          1          1          2          2  \n",
       "4            2          2          2          2          2          2  \n",
       "..         ...        ...        ...        ...        ...        ...  \n",
       "126          2          2          2          2          2          2  \n",
       "127          2          2          0          2          2          2  \n",
       "128          2          2          0          2          1          2  \n",
       "129          2          2          0          2          2          1  \n",
       "130          2          2          0          2          1          0  \n",
       "\n",
       "[131 rows x 1218 columns]"
      ]
     },
     "execution_count": 42,
     "metadata": {},
     "output_type": "execute_result"
    }
   ],
   "source": [
    "print('Plotting results!')\n",
    "output_file = output_basename+\"msp.tsv\"\n",
    "\n",
    "msp_df = pd.read_csv(output_file, sep=\"\\t\",header=1)\n",
    "msp_df"
   ]
  },
  {
   "cell_type": "markdown",
   "metadata": {},
   "source": [
    "## Measuring performance"
   ]
  },
  {
   "cell_type": "code",
   "execution_count": 43,
   "metadata": {},
   "outputs": [
    {
     "name": "stdout",
     "output_type": "stream",
     "text": [
      "The autoreload extension is already loaded. To reload it, use:\n",
      "  %reload_ext autoreload\n"
     ]
    }
   ],
   "source": [
    "from scipy import stats\n",
    "from sklearn.metrics import confusion_matrix\n",
    "\n",
    "from lainet.postprocess import get_samples_from_msp_df\n",
    "from lainet.visualization import plot_cm, plot_chm\n",
    "\n",
    "%load_ext autoreload\n",
    "%autoreload 2"
   ]
  },
  {
   "cell_type": "code",
   "execution_count": 44,
   "metadata": {},
   "outputs": [
    {
     "name": "stdout",
     "output_type": "stream",
     "text": [
      "      Sample Prediction\n",
      "0    NA19434        AFR\n",
      "1    HG02759        AFR\n",
      "2    HG03085        AFR\n",
      "3    HG02968        AFR\n",
      "4    HG02307        AFR\n",
      "..       ...        ...\n",
      "601  HG00369        EUR\n",
      "602  NA20803        EUR\n",
      "603  HG00364        EUR\n",
      "604  HG00367        EUR\n",
      "605  NA12761        EUR\n",
      "\n",
      "[606 rows x 2 columns]\n"
     ]
    }
   ],
   "source": [
    "msp_df = pd.read_csv(output_file, sep=\"\\t\",skiprows=[0])\n",
    "# reading the sample-ids\n",
    "query_samples = get_samples_from_msp_df(msp_df)\n",
    "\n",
    "# reading predictions for each of the intervals\n",
    "pred_labels = (np.array(msp_df)[:,6:].T).astype(int)\n",
    "# reducing it to only 1 of maternal/paternal prediction\n",
    "single_ind_idx = np.arange(0,len(query_samples)*2,2)\n",
    "pred_labels_single_ind = pred_labels[single_ind_idx,:]\n",
    "\n",
    "\n",
    "# predicting single ancestry by taking mode of local predictions for each individual\n",
    "y_pred = stats.mode(pred_labels_single_ind,axis=1)[0].squeeze() \n",
    "\n",
    "# get model population order from first line of file and convert from numeric predictions\n",
    "with open(output_file, \"r\") as f:\n",
    "    pop = np.array([p.split(\"=\")[0] for p in f.readline().split()[2:]])\n",
    "pred_pop = [pop[pop_ind] for pop_ind in y_pred]\n",
    "\n",
    "# put it together in dataframe\n",
    "pred_df = pd.DataFrame({\"Sample\": query_samples, \"Prediction\": pred_pop})\n",
    "print(pred_df)"
   ]
  },
  {
   "cell_type": "markdown",
   "metadata": {},
   "source": [
    "## Adding the true labels"
   ]
  },
  {
   "cell_type": "code",
   "execution_count": 45,
   "metadata": {},
   "outputs": [
    {
     "name": "stdout",
     "output_type": "stream",
     "text": [
      "      Sample Prediction Population\n",
      "0    NA19434        AFR        AFR\n",
      "1    HG02759        AFR        AFR\n",
      "2    HG03085        AFR        AFR\n",
      "3    HG02968        AFR        AFR\n",
      "4    HG02307        AFR        AFR\n",
      "..       ...        ...        ...\n",
      "601  HG00369        EUR        EUR\n",
      "602  NA20803        EUR        EUR\n",
      "603  HG00364        EUR        EUR\n",
      "604  HG00367        EUR        EUR\n",
      "605  NA12761        EUR        EUR\n",
      "\n",
      "[606 rows x 3 columns]\n"
     ]
    }
   ],
   "source": [
    "# adding the true labels\n",
    "\n",
    "all_sample_map_df = pd.read_csv(test_map_file, sep=\"\\t\",header=None)\n",
    "all_sample_map_df.columns = ['Sample', 'Population']\n",
    "pred_df = pred_df.merge(all_sample_map_df)\n",
    "print(pred_df)"
   ]
  },
  {
   "cell_type": "markdown",
   "metadata": {},
   "source": [
    "### Printing false prediction"
   ]
  },
  {
   "cell_type": "code",
   "execution_count": 46,
   "metadata": {},
   "outputs": [
    {
     "name": "stdout",
     "output_type": "stream",
     "text": [
      "Empty DataFrame\n",
      "Columns: [Sample, Prediction, Population]\n",
      "Index: []\n",
      "(0, 3)\n"
     ]
    }
   ],
   "source": [
    "false_pred=pred_df[pred_df.Population!=pred_df.Prediction]\n",
    "print(false_pred)\n",
    "print(false_pred.shape)"
   ]
  },
  {
   "cell_type": "code",
   "execution_count": 47,
   "metadata": {},
   "outputs": [
    {
     "name": "stdout",
     "output_type": "stream",
     "text": [
      "Accuracy for single ancestry: 100.0%\n"
     ]
    }
   ],
   "source": [
    "acc = np.mean(pred_df.Population == pred_df.Prediction)\n",
    "print(\"Accuracy for single ancestry: \", acc*100, \"%\", sep=\"\")\n"
   ]
  },
  {
   "cell_type": "code",
   "execution_count": 49,
   "metadata": {},
   "outputs": [
    {
     "data": {
      "image/png": "[encoded data removed]",
      "text/plain": [
       "<Figure size 720x576 with 2 Axes>"
      ]
     },
     "metadata": {},
     "output_type": "display_data"
    }
   ],
   "source": [
    "# creating and visualizing the confusion matrix\n",
    "labs = np.unique(pred_df[['Population', 'Prediction']])\n",
    "cm = confusion_matrix(pred_df.Population, pred_df.Prediction, labels=labs)\n",
    "cm_plot = plot_cm(cm,title='Confusion matrix when using real EAS,AFR and artifical EUR', normalize=False, labels=labs)\n",
    "cm_plot.figure.savefig(f'{output_basename}confusion_matrix.png')"
   ]
  },
  {
   "cell_type": "markdown",
   "metadata": {},
   "source": [
    "If you want to visualize population SNP on the chromosome."
   ]
  },
  {
   "cell_type": "raw",
   "metadata": {},
   "source": [
    "from IPython.display import Image\n",
    "from lainet.visualization import plot_cm, plot_chm\n",
    "import seaborn as sns\n",
    "\n",
    "\n",
    "sample_id = \"HG020from IPython.display import Image\n",
    "from lainet.visualization import plot_cm, plot_chm\n",
    "import seaborn as sns\n",
    "\n",
    "\n",
    "sample_id = \"HG02075\" # looking at just one random sample\n",
    "img_name = f\"{output_basename}{sample_id}_chm_img\"\n",
    "palette= sns.color_palette([\"#A60303\", \"#3457BF\", \"#75BFAA\", \"#613673\"]).as_hex()\n",
    "plot_chm(sample_id, msp_df,output_basename,output_file,palette=palette, img_name=img_name)\n",
    "Image(filename=img_name+\".png\",retina=True)75\" # looking at just one random sample\n",
    "img_name = f\"{output_basename}{sample_id}_chm_img\"\n",
    "palette= sns.color_palette([\"#A60303\", \"#3457BF\", \"#75BFAA\", \"#613673\"]).as_hex()\n",
    "plot_chm(sample_id, msp_df,output_basename,output_file,palette=palette, img_name=img_name)\n",
    "Image(filename=img_name+\".png\",retina=True)"
   ]
  },
  {
   "cell_type": "code",
   "execution_count": null,
   "metadata": {},
   "outputs": [],
   "source": []
  }
 ],
 "metadata": {
  "kernelspec": {
   "display_name": "Mon Python",
   "language": "python",
   "name": "ter"
  },
  "language_info": {
   "codemirror_mode": {
    "name": "ipython",
    "version": 3
   },
   "file_extension": ".py",
   "mimetype": "text/x-python",
   "name": "python",
   "nbconvert_exporter": "python",
   "pygments_lexer": "ipython3",
   "version": "3.9.18"
  }
 },
 "nbformat": 4,
 "nbformat_minor": 4
}
